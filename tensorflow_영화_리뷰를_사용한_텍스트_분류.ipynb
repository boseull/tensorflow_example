{
  "nbformat": 4,
  "nbformat_minor": 0,
  "metadata": {
    "colab": {
      "name": "tensorflow_영화 리뷰를 사용한 텍스트 분류.ipynb",
      "provenance": [],
      "authorship_tag": "ABX9TyO2eP1DZAB8KaeBgXB6Z5Zn",
      "include_colab_link": true
    },
    "kernelspec": {
      "name": "python3",
      "display_name": "Python 3"
    },
    "language_info": {
      "name": "python"
    }
  },
  "cells": [
    {
      "cell_type": "markdown",
      "metadata": {
        "id": "view-in-github",
        "colab_type": "text"
      },
      "source": [
        "<a href=\"https://colab.research.google.com/github/boseull/tensorflow_example/blob/main/tensorflow_%EC%98%81%ED%99%94_%EB%A6%AC%EB%B7%B0%EB%A5%BC_%EC%82%AC%EC%9A%A9%ED%95%9C_%ED%85%8D%EC%8A%A4%ED%8A%B8_%EB%B6%84%EB%A5%98.ipynb\" target=\"_parent\"><img src=\"https://colab.research.google.com/assets/colab-badge.svg\" alt=\"Open In Colab\"/></a>"
      ]
    },
    {
      "cell_type": "markdown",
      "metadata": {
        "id": "q6gQSP8Ikc6q"
      },
      "source": [
        "tensorflow, keras, numpy import. 영화 리뷰 분류 : 부정/긍정 이진 분류"
      ]
    },
    {
      "cell_type": "code",
      "metadata": {
        "colab": {
          "base_uri": "https://localhost:8080/"
        },
        "id": "r0Rc2tWdkUpv",
        "outputId": "981bd299-f6db-4d4a-fa07-e92177ac815f"
      },
      "source": [
        "import tensorflow as tf\n",
        "from tensorflow import keras\n",
        "\n",
        "import numpy as np\n",
        "\n",
        "print(tf.__version__)"
      ],
      "execution_count": 1,
      "outputs": [
        {
          "output_type": "stream",
          "text": [
            "2.5.0\n"
          ],
          "name": "stdout"
        }
      ]
    },
    {
      "cell_type": "markdown",
      "metadata": {
        "id": "epItugLQkyjq"
      },
      "source": [
        "##데이터셋 다운로드"
      ]
    },
    {
      "cell_type": "code",
      "metadata": {
        "colab": {
          "base_uri": "https://localhost:8080/"
        },
        "id": "deo2AEnjkxk3",
        "outputId": "2bb75d13-f679-44da-bcca-bbd4d910b0fa"
      },
      "source": [
        "imdb = keras.datasets.imdb\n",
        "(train_data, train_labels), (test_data, test_labels) = imdb.load_data(num_words=10000) #가장 많이 등장하는 상위 10000개의 단어 석택"
      ],
      "execution_count": 2,
      "outputs": [
        {
          "output_type": "stream",
          "text": [
            "Downloading data from https://storage.googleapis.com/tensorflow/tf-keras-datasets/imdb.npz\n",
            "17465344/17464789 [==============================] - 0s 0us/step\n"
          ],
          "name": "stdout"
        },
        {
          "output_type": "stream",
          "text": [
            "<string>:6: VisibleDeprecationWarning: Creating an ndarray from ragged nested sequences (which is a list-or-tuple of lists-or-tuples-or ndarrays with different lengths or shapes) is deprecated. If you meant to do this, you must specify 'dtype=object' when creating the ndarray\n",
            "/usr/local/lib/python3.7/dist-packages/tensorflow/python/keras/datasets/imdb.py:155: VisibleDeprecationWarning: Creating an ndarray from ragged nested sequences (which is a list-or-tuple of lists-or-tuples-or ndarrays with different lengths or shapes) is deprecated. If you meant to do this, you must specify 'dtype=object' when creating the ndarray\n",
            "  x_train, y_train = np.array(xs[:idx]), np.array(labels[:idx])\n",
            "/usr/local/lib/python3.7/dist-packages/tensorflow/python/keras/datasets/imdb.py:156: VisibleDeprecationWarning: Creating an ndarray from ragged nested sequences (which is a list-or-tuple of lists-or-tuples-or ndarrays with different lengths or shapes) is deprecated. If you meant to do this, you must specify 'dtype=object' when creating the ndarray\n",
            "  x_test, y_test = np.array(xs[idx:]), np.array(labels[idx:])\n"
          ],
          "name": "stderr"
        }
      ]
    },
    {
      "cell_type": "code",
      "metadata": {
        "colab": {
          "base_uri": "https://localhost:8080/"
        },
        "id": "UOYs66eYlPus",
        "outputId": "061b00cd-4d00-42ba-c323-faffa6c4ccb4"
      },
      "source": [
        "print(\"훈련 샘플: {}, 레이블: {}\".format(len(train_data), len(train_labels)))\n",
        "\n",
        "print(train_data[0]) #특정 단어를 나타내는 정수로 변환\n",
        "\n",
        "len(train_data[0]), len(train_data[1]) #영화 리뷰들의 길이는 각각 다름. 신경망 입력은 같아야 함."
      ],
      "execution_count": 3,
      "outputs": [
        {
          "output_type": "stream",
          "text": [
            "훈련 샘플: 25000, 레이블: 25000\n",
            "[1, 14, 22, 16, 43, 530, 973, 1622, 1385, 65, 458, 4468, 66, 3941, 4, 173, 36, 256, 5, 25, 100, 43, 838, 112, 50, 670, 2, 9, 35, 480, 284, 5, 150, 4, 172, 112, 167, 2, 336, 385, 39, 4, 172, 4536, 1111, 17, 546, 38, 13, 447, 4, 192, 50, 16, 6, 147, 2025, 19, 14, 22, 4, 1920, 4613, 469, 4, 22, 71, 87, 12, 16, 43, 530, 38, 76, 15, 13, 1247, 4, 22, 17, 515, 17, 12, 16, 626, 18, 2, 5, 62, 386, 12, 8, 316, 8, 106, 5, 4, 2223, 5244, 16, 480, 66, 3785, 33, 4, 130, 12, 16, 38, 619, 5, 25, 124, 51, 36, 135, 48, 25, 1415, 33, 6, 22, 12, 215, 28, 77, 52, 5, 14, 407, 16, 82, 2, 8, 4, 107, 117, 5952, 15, 256, 4, 2, 7, 3766, 5, 723, 36, 71, 43, 530, 476, 26, 400, 317, 46, 7, 4, 2, 1029, 13, 104, 88, 4, 381, 15, 297, 98, 32, 2071, 56, 26, 141, 6, 194, 7486, 18, 4, 226, 22, 21, 134, 476, 26, 480, 5, 144, 30, 5535, 18, 51, 36, 28, 224, 92, 25, 104, 4, 226, 65, 16, 38, 1334, 88, 12, 16, 283, 5, 16, 4472, 113, 103, 32, 15, 16, 5345, 19, 178, 32]\n"
          ],
          "name": "stdout"
        },
        {
          "output_type": "execute_result",
          "data": {
            "text/plain": [
              "(218, 189)"
            ]
          },
          "metadata": {
            "tags": []
          },
          "execution_count": 3
        }
      ]
    },
    {
      "cell_type": "markdown",
      "metadata": {
        "id": "bA1N5PUymcLY"
      },
      "source": [
        "##정수를 단어로 다시 변환하기\n"
      ]
    },
    {
      "cell_type": "code",
      "metadata": {
        "colab": {
          "base_uri": "https://localhost:8080/",
          "height": 162
        },
        "id": "4wA2kSbBmejj",
        "outputId": "9fc6d538-035c-44b7-99ea-0995b6bc5a5d"
      },
      "source": [
        "#단어와 정수 인덱스를 매핑한 딕셔너리\n",
        "word_index = imdb.get_word_index()\n",
        "\n",
        "#4자리씩 띄움\n",
        "word_index = {k:(v+3) for k,v in word_index.items()}\n",
        "#처음 4자리 인덱스 정의 imdb에서 0123은 특별 토큰으로 취급, 4가 제일 빈도수가 높은 단어임.\n",
        "#똑같이 imdb에서 가져왔는데 왜 인덱스를 따로 지정해줘야 하는 것?\n",
        "word_index[\"<PAD>\"] = 0\n",
        "word_index[\"<START>\"] = 1\n",
        "word_index[\"<UNK>\"] = 2 #unknown?????\n",
        "word_index[\"<UNUSED>\"] = 3\n",
        "\n",
        "#(단어, 인덱스) -> (인덱스, 단어)\n",
        "reverse_word_index = dict([(value, key) for (key, value) in word_index.items()])\n",
        "\n",
        "def decode_review(text):\n",
        "  return ' '.join([reverse_word_index.get(i, '?') for i in text]) #?:i가 dict에 없을 때\n",
        "\n",
        "print(train_data[0])\n",
        "decode_review(train_data[0])"
      ],
      "execution_count": 13,
      "outputs": [
        {
          "output_type": "stream",
          "text": [
            "[1, 14, 22, 16, 43, 530, 973, 1622, 1385, 65, 458, 4468, 66, 3941, 4, 173, 36, 256, 5, 25, 100, 43, 838, 112, 50, 670, 2, 9, 35, 480, 284, 5, 150, 4, 172, 112, 167, 2, 336, 385, 39, 4, 172, 4536, 1111, 17, 546, 38, 13, 447, 4, 192, 50, 16, 6, 147, 2025, 19, 14, 22, 4, 1920, 4613, 469, 4, 22, 71, 87, 12, 16, 43, 530, 38, 76, 15, 13, 1247, 4, 22, 17, 515, 17, 12, 16, 626, 18, 2, 5, 62, 386, 12, 8, 316, 8, 106, 5, 4, 2223, 5244, 16, 480, 66, 3785, 33, 4, 130, 12, 16, 38, 619, 5, 25, 124, 51, 36, 135, 48, 25, 1415, 33, 6, 22, 12, 215, 28, 77, 52, 5, 14, 407, 16, 82, 2, 8, 4, 107, 117, 5952, 15, 256, 4, 2, 7, 3766, 5, 723, 36, 71, 43, 530, 476, 26, 400, 317, 46, 7, 4, 2, 1029, 13, 104, 88, 4, 381, 15, 297, 98, 32, 2071, 56, 26, 141, 6, 194, 7486, 18, 4, 226, 22, 21, 134, 476, 26, 480, 5, 144, 30, 5535, 18, 51, 36, 28, 224, 92, 25, 104, 4, 226, 65, 16, 38, 1334, 88, 12, 16, 283, 5, 16, 4472, 113, 103, 32, 15, 16, 5345, 19, 178, 32]\n"
          ],
          "name": "stdout"
        },
        {
          "output_type": "execute_result",
          "data": {
            "application/vnd.google.colaboratory.intrinsic+json": {
              "type": "string"
            },
            "text/plain": [
              "\"<START> this film was just brilliant casting location scenery story direction everyone's really suited the part they played and you could just imagine being there robert <UNK> is an amazing actor and now the same being director <UNK> father came from the same scottish island as myself so i loved the fact there was a real connection with this film the witty remarks throughout the film were great it was just brilliant so much that i bought the film as soon as it was released for <UNK> and would recommend it to everyone to watch and the fly fishing was amazing really cried at the end it was so sad and you know what they say if you cry at a film it must have been good and this definitely was also <UNK> to the two little boy's that played the <UNK> of norman and paul they were just brilliant children are often left out of the <UNK> list i think because the stars that play them all grown up are such a big profile for the whole film but these children are amazing and should be praised for what they have done don't you think the whole story was so lovely because it was true and was someone's life after all that was shared with us all\""
            ]
          },
          "metadata": {
            "tags": []
          },
          "execution_count": 13
        }
      ]
    },
    {
      "cell_type": "code",
      "metadata": {
        "id": "liNW0d_2nghV"
      },
      "source": [
        "train_data = keras.preprocessing.sequence.pad_sequences(train_data, value=word_index[\"<PAD>\"], padding='post', maxlen=256)\n",
        "#value : 빈 공간을 채울 수(word_index[\"<PAD>\"]=0), padding : 앞에서부터 비울지 뒤에서부터 비울지 maxlen : 최대길이(더 길면 자름)\n",
        "test_data = keras.preprocessing.sequence.pad_sequences(test_data, value=word_index[\"<PAD>\"], padding='post', maxlen=256)"
      ],
      "execution_count": 14,
      "outputs": []
    },
    {
      "cell_type": "code",
      "metadata": {
        "colab": {
          "base_uri": "https://localhost:8080/"
        },
        "id": "w4tBCTLVptN_",
        "outputId": "85f7cf0c-232f-4b81-d803-96189cbd42cf"
      },
      "source": [
        "len(train_data[0]), len(train_data[1])"
      ],
      "execution_count": 15,
      "outputs": [
        {
          "output_type": "execute_result",
          "data": {
            "text/plain": [
              "(256, 256)"
            ]
          },
          "metadata": {
            "tags": []
          },
          "execution_count": 15
        }
      ]
    },
    {
      "cell_type": "code",
      "metadata": {
        "colab": {
          "base_uri": "https://localhost:8080/"
        },
        "id": "6_Qum9T-puzP",
        "outputId": "d7175607-6c80-4407-d72f-49ff960a71e9"
      },
      "source": [
        "print(train_data[0])"
      ],
      "execution_count": 17,
      "outputs": [
        {
          "output_type": "stream",
          "text": [
            "[   1   14   22   16   43  530  973 1622 1385   65  458 4468   66 3941\n",
            "    4  173   36  256    5   25  100   43  838  112   50  670    2    9\n",
            "   35  480  284    5  150    4  172  112  167    2  336  385   39    4\n",
            "  172 4536 1111   17  546   38   13  447    4  192   50   16    6  147\n",
            " 2025   19   14   22    4 1920 4613  469    4   22   71   87   12   16\n",
            "   43  530   38   76   15   13 1247    4   22   17  515   17   12   16\n",
            "  626   18    2    5   62  386   12    8  316    8  106    5    4 2223\n",
            " 5244   16  480   66 3785   33    4  130   12   16   38  619    5   25\n",
            "  124   51   36  135   48   25 1415   33    6   22   12  215   28   77\n",
            "   52    5   14  407   16   82    2    8    4  107  117 5952   15  256\n",
            "    4    2    7 3766    5  723   36   71   43  530  476   26  400  317\n",
            "   46    7    4    2 1029   13  104   88    4  381   15  297   98   32\n",
            " 2071   56   26  141    6  194 7486   18    4  226   22   21  134  476\n",
            "   26  480    5  144   30 5535   18   51   36   28  224   92   25  104\n",
            "    4  226   65   16   38 1334   88   12   16  283    5   16 4472  113\n",
            "  103   32   15   16 5345   19  178   32    0    0    0    0    0    0\n",
            "    0    0    0    0    0    0    0    0    0    0    0    0    0    0\n",
            "    0    0    0    0    0    0    0    0    0    0    0    0    0    0\n",
            "    0    0    0    0]\n"
          ],
          "name": "stdout"
        }
      ]
    },
    {
      "cell_type": "markdown",
      "metadata": {
        "id": "oiQVVDb-p3Xr"
      },
      "source": [
        "##모델 구성\n",
        "\n",
        "\n"
      ]
    },
    {
      "cell_type": "code",
      "metadata": {
        "colab": {
          "base_uri": "https://localhost:8080/"
        },
        "id": "3QlGXGmfp21x",
        "outputId": "9d634000-62cb-4ed1-a446-6d5fa7dcefe1"
      },
      "source": [
        "vocab_size = 10000 #전체 단어 수 10000+3?\n",
        "\n",
        "model = keras.Sequential()\n",
        "model.add(keras.layers.Embedding(vocab_size, 16, input_shape=(None,))) #정수-\n",
        "model.add(keras.layers.GlobalAveragePooling1D())\n",
        "model.add(keras.layers.Dense(16, activation='relu')) #relu 왜 필요한걸까\n",
        "model.add(keras.layers.Dense(1, activation='sigmoid'))\n",
        "\n",
        "model.summary()"
      ],
      "execution_count": 27,
      "outputs": [
        {
          "output_type": "stream",
          "text": [
            "Model: \"sequential\"\n",
            "_________________________________________________________________\n",
            "Layer (type)                 Output Shape              Param #   \n",
            "=================================================================\n",
            "embedding (Embedding)        (None, None, 16)          160000    \n",
            "_________________________________________________________________\n",
            "global_average_pooling1d (Gl (None, 16)                0         \n",
            "_________________________________________________________________\n",
            "dense (Dense)                (None, 16)                272       \n",
            "_________________________________________________________________\n",
            "dense_1 (Dense)              (None, 1)                 17        \n",
            "=================================================================\n",
            "Total params: 160,289\n",
            "Trainable params: 160,289\n",
            "Non-trainable params: 0\n",
            "_________________________________________________________________\n"
          ],
          "name": "stdout"
        }
      ]
    },
    {
      "cell_type": "markdown",
      "metadata": {
        "id": "X2dpQmVA47Am"
      },
      "source": [
        "##모델 컴파일"
      ]
    },
    {
      "cell_type": "code",
      "metadata": {
        "id": "3fW7-IDf4HEI"
      },
      "source": [
        "model.compile(optimizer='adam', loss='binary_crossentropy', metrics=['accuracy'])"
      ],
      "execution_count": 29,
      "outputs": []
    },
    {
      "cell_type": "markdown",
      "metadata": {
        "id": "tud841t749tr"
      },
      "source": [
        "##검증 세트 만들기 (validation set)"
      ]
    },
    {
      "cell_type": "code",
      "metadata": {
        "id": "Mnd9j5Ql4WWt"
      },
      "source": [
        "x_val = train_data[:10000]\n",
        "partial_x_train = train_data[10000:]\n",
        "\n",
        "y_val = train_labels[:10000]\n",
        "partial_y_train = train_labels[10000:]"
      ],
      "execution_count": 28,
      "outputs": []
    },
    {
      "cell_type": "markdown",
      "metadata": {
        "id": "P1z1IMtK5Boy"
      },
      "source": [
        "##모델 훈련 및 평가"
      ]
    },
    {
      "cell_type": "code",
      "metadata": {
        "colab": {
          "base_uri": "https://localhost:8080/"
        },
        "id": "hgvB57Za4m6m",
        "outputId": "7790a4ac-8861-4c28-a6dd-104be43a9c1c"
      },
      "source": [
        "history = model.fit(partial_x_train, partial_y_train, epochs=40, batch_size=512, validation_data=(x_val, y_val), verbose=1)"
      ],
      "execution_count": 30,
      "outputs": [
        {
          "output_type": "stream",
          "text": [
            "Epoch 1/40\n",
            "30/30 [==============================] - 2s 27ms/step - loss: 0.6922 - accuracy: 0.5415 - val_loss: 0.6907 - val_accuracy: 0.6914\n",
            "Epoch 2/40\n",
            "30/30 [==============================] - 1s 20ms/step - loss: 0.6878 - accuracy: 0.7261 - val_loss: 0.6842 - val_accuracy: 0.7326\n",
            "Epoch 3/40\n",
            "30/30 [==============================] - 1s 20ms/step - loss: 0.6769 - accuracy: 0.7535 - val_loss: 0.6700 - val_accuracy: 0.7552\n",
            "Epoch 4/40\n",
            "30/30 [==============================] - 1s 20ms/step - loss: 0.6557 - accuracy: 0.7771 - val_loss: 0.6445 - val_accuracy: 0.7728\n",
            "Epoch 5/40\n",
            "30/30 [==============================] - 1s 21ms/step - loss: 0.6223 - accuracy: 0.7931 - val_loss: 0.6087 - val_accuracy: 0.7884\n",
            "Epoch 6/40\n",
            "30/30 [==============================] - 1s 21ms/step - loss: 0.5780 - accuracy: 0.8108 - val_loss: 0.5648 - val_accuracy: 0.8010\n",
            "Epoch 7/40\n",
            "30/30 [==============================] - 1s 20ms/step - loss: 0.5284 - accuracy: 0.8284 - val_loss: 0.5191 - val_accuracy: 0.8191\n",
            "Epoch 8/40\n",
            "30/30 [==============================] - 1s 20ms/step - loss: 0.4789 - accuracy: 0.8463 - val_loss: 0.4761 - val_accuracy: 0.8329\n",
            "Epoch 9/40\n",
            "30/30 [==============================] - 1s 21ms/step - loss: 0.4336 - accuracy: 0.8595 - val_loss: 0.4385 - val_accuracy: 0.8419\n",
            "Epoch 10/40\n",
            "30/30 [==============================] - 1s 20ms/step - loss: 0.3936 - accuracy: 0.8727 - val_loss: 0.4075 - val_accuracy: 0.8513\n",
            "Epoch 11/40\n",
            "30/30 [==============================] - 1s 22ms/step - loss: 0.3607 - accuracy: 0.8809 - val_loss: 0.3823 - val_accuracy: 0.8583\n",
            "Epoch 12/40\n",
            "30/30 [==============================] - 1s 20ms/step - loss: 0.3331 - accuracy: 0.8890 - val_loss: 0.3629 - val_accuracy: 0.8619\n",
            "Epoch 13/40\n",
            "30/30 [==============================] - 1s 21ms/step - loss: 0.3096 - accuracy: 0.8959 - val_loss: 0.3470 - val_accuracy: 0.8673\n",
            "Epoch 14/40\n",
            "30/30 [==============================] - 1s 22ms/step - loss: 0.2895 - accuracy: 0.9013 - val_loss: 0.3340 - val_accuracy: 0.8726\n",
            "Epoch 15/40\n",
            "30/30 [==============================] - 1s 21ms/step - loss: 0.2727 - accuracy: 0.9059 - val_loss: 0.3243 - val_accuracy: 0.8722\n",
            "Epoch 16/40\n",
            "30/30 [==============================] - 1s 20ms/step - loss: 0.2574 - accuracy: 0.9099 - val_loss: 0.3156 - val_accuracy: 0.8770\n",
            "Epoch 17/40\n",
            "30/30 [==============================] - 1s 20ms/step - loss: 0.2436 - accuracy: 0.9154 - val_loss: 0.3086 - val_accuracy: 0.8784\n",
            "Epoch 18/40\n",
            "30/30 [==============================] - 1s 21ms/step - loss: 0.2313 - accuracy: 0.9208 - val_loss: 0.3038 - val_accuracy: 0.8795\n",
            "Epoch 19/40\n",
            "30/30 [==============================] - 1s 20ms/step - loss: 0.2198 - accuracy: 0.9237 - val_loss: 0.2994 - val_accuracy: 0.8812\n",
            "Epoch 20/40\n",
            "30/30 [==============================] - 1s 20ms/step - loss: 0.2098 - accuracy: 0.9278 - val_loss: 0.2958 - val_accuracy: 0.8817\n",
            "Epoch 21/40\n",
            "30/30 [==============================] - 1s 20ms/step - loss: 0.1999 - accuracy: 0.9315 - val_loss: 0.2919 - val_accuracy: 0.8831\n",
            "Epoch 22/40\n",
            "30/30 [==============================] - 1s 20ms/step - loss: 0.1909 - accuracy: 0.9361 - val_loss: 0.2902 - val_accuracy: 0.8832\n",
            "Epoch 23/40\n",
            "30/30 [==============================] - 1s 19ms/step - loss: 0.1825 - accuracy: 0.9401 - val_loss: 0.2885 - val_accuracy: 0.8849\n",
            "Epoch 24/40\n",
            "30/30 [==============================] - 1s 20ms/step - loss: 0.1746 - accuracy: 0.9427 - val_loss: 0.2870 - val_accuracy: 0.8845\n",
            "Epoch 25/40\n",
            "30/30 [==============================] - 1s 19ms/step - loss: 0.1677 - accuracy: 0.9454 - val_loss: 0.2864 - val_accuracy: 0.8845\n",
            "Epoch 26/40\n",
            "30/30 [==============================] - 1s 20ms/step - loss: 0.1605 - accuracy: 0.9492 - val_loss: 0.2860 - val_accuracy: 0.8853\n",
            "Epoch 27/40\n",
            "30/30 [==============================] - 1s 19ms/step - loss: 0.1536 - accuracy: 0.9522 - val_loss: 0.2855 - val_accuracy: 0.8865\n",
            "Epoch 28/40\n",
            "30/30 [==============================] - 1s 19ms/step - loss: 0.1474 - accuracy: 0.9547 - val_loss: 0.2868 - val_accuracy: 0.8861\n",
            "Epoch 29/40\n",
            "30/30 [==============================] - 1s 19ms/step - loss: 0.1416 - accuracy: 0.9571 - val_loss: 0.2894 - val_accuracy: 0.8828\n",
            "Epoch 30/40\n",
            "30/30 [==============================] - 1s 20ms/step - loss: 0.1363 - accuracy: 0.9591 - val_loss: 0.2878 - val_accuracy: 0.8866\n",
            "Epoch 31/40\n",
            "30/30 [==============================] - 1s 20ms/step - loss: 0.1306 - accuracy: 0.9615 - val_loss: 0.2894 - val_accuracy: 0.8867\n",
            "Epoch 32/40\n",
            "30/30 [==============================] - 1s 20ms/step - loss: 0.1259 - accuracy: 0.9638 - val_loss: 0.2913 - val_accuracy: 0.8840\n",
            "Epoch 33/40\n",
            "30/30 [==============================] - 1s 21ms/step - loss: 0.1206 - accuracy: 0.9659 - val_loss: 0.2932 - val_accuracy: 0.8860\n",
            "Epoch 34/40\n",
            "30/30 [==============================] - 1s 20ms/step - loss: 0.1162 - accuracy: 0.9665 - val_loss: 0.2951 - val_accuracy: 0.8867\n",
            "Epoch 35/40\n",
            "30/30 [==============================] - 1s 21ms/step - loss: 0.1118 - accuracy: 0.9690 - val_loss: 0.2971 - val_accuracy: 0.8850\n",
            "Epoch 36/40\n",
            "30/30 [==============================] - 1s 20ms/step - loss: 0.1071 - accuracy: 0.9703 - val_loss: 0.3001 - val_accuracy: 0.8835\n",
            "Epoch 37/40\n",
            "30/30 [==============================] - 1s 19ms/step - loss: 0.1032 - accuracy: 0.9715 - val_loss: 0.3029 - val_accuracy: 0.8831\n",
            "Epoch 38/40\n",
            "30/30 [==============================] - 1s 19ms/step - loss: 0.0991 - accuracy: 0.9737 - val_loss: 0.3055 - val_accuracy: 0.8831\n",
            "Epoch 39/40\n",
            "30/30 [==============================] - 1s 20ms/step - loss: 0.0957 - accuracy: 0.9744 - val_loss: 0.3097 - val_accuracy: 0.8823\n",
            "Epoch 40/40\n",
            "30/30 [==============================] - 1s 19ms/step - loss: 0.0917 - accuracy: 0.9762 - val_loss: 0.3123 - val_accuracy: 0.8812\n"
          ],
          "name": "stdout"
        }
      ]
    },
    {
      "cell_type": "code",
      "metadata": {
        "colab": {
          "base_uri": "https://localhost:8080/"
        },
        "id": "ZZt_sPCo5Jr4",
        "outputId": "93c68189-30ab-468f-f4dc-67ca5e785765"
      },
      "source": [
        "results = model.evaluate(test_data, test_labels, verbose=2)\n",
        "\n",
        "print(results)"
      ],
      "execution_count": 31,
      "outputs": [
        {
          "output_type": "stream",
          "text": [
            "782/782 - 1s - loss: 0.3338 - accuracy: 0.8707\n",
            "[0.3337630033493042, 0.8707200288772583]\n"
          ],
          "name": "stdout"
        }
      ]
    },
    {
      "cell_type": "markdown",
      "metadata": {
        "id": "Ig1Paval5bTe"
      },
      "source": [
        "##정확도와 손실 그래프"
      ]
    },
    {
      "cell_type": "code",
      "metadata": {
        "colab": {
          "base_uri": "https://localhost:8080/"
        },
        "id": "eq-Xa87u5dgD",
        "outputId": "1a0bdb0a-5012-4f79-fb4d-98dd5a83e9ae"
      },
      "source": [
        "history_dict = history.history\n",
        "history_dict.keys()"
      ],
      "execution_count": 32,
      "outputs": [
        {
          "output_type": "execute_result",
          "data": {
            "text/plain": [
              "dict_keys(['loss', 'accuracy', 'val_loss', 'val_accuracy'])"
            ]
          },
          "metadata": {
            "tags": []
          },
          "execution_count": 32
        }
      ]
    },
    {
      "cell_type": "code",
      "metadata": {
        "colab": {
          "base_uri": "https://localhost:8080/",
          "height": 313
        },
        "id": "IVKJN5Xs5m8R",
        "outputId": "98a6e7f7-1f98-4f58-bbb3-6885f7c6119d"
      },
      "source": [
        "import matplotlib.pyplot as plt\n",
        "\n",
        "acc = history_dict['accuracy']\n",
        "val_acc = history_dict['val_accuracy']\n",
        "loss = history_dict['loss']\n",
        "val_loss = history_dict['val_loss']\n",
        "\n",
        "epochs = range(1, len(acc) + 1)\n",
        "\n",
        "\n",
        "plt.plot(epochs, loss, 'bo', label='Training loss')\n",
        "plt.plot(epochs, val_loss, 'b', label='Validation loss')\n",
        "plt.title('Training and validation loss')\n",
        "plt.xlabel('Epochs')\n",
        "plt.ylabel('Loss')\n",
        "plt.legend()\n",
        "\n",
        "plt.show"
      ],
      "execution_count": 33,
      "outputs": [
        {
          "output_type": "execute_result",
          "data": {
            "text/plain": [
              "<function matplotlib.pyplot.show>"
            ]
          },
          "metadata": {
            "tags": []
          },
          "execution_count": 33
        },
        {
          "output_type": "display_data",
          "data": {
            "image/png": "[encoded data removed]",
            "text/plain": [
              "<Figure size 432x288 with 1 Axes>"
            ]
          },
          "metadata": {
            "tags": [],
            "needs_background": "light"
          }
        }
      ]
    },
    {
      "cell_type": "code",
      "metadata": {
        "colab": {
          "base_uri": "https://localhost:8080/",
          "height": 295
        },
        "id": "Yl-DWhvY6VYU",
        "outputId": "baafe1ca-9144-4729-baa7-aa65f62dfcba"
      },
      "source": [
        "plt.clf()\n",
        "\n",
        "plt.plot(epochs, acc, 'bo', label='Training loss')\n",
        "plt.plot(epochs, val_acc, 'b', label='Validation acc')\n",
        "plt.title('Training and validation accuracy')\n",
        "plt.xlabel('Epochs')\n",
        "plt.ylabel('Accuracy')\n",
        "plt.legend()\n",
        "\n",
        "plt.show()"
      ],
      "execution_count": 36,
      "outputs": [
        {
          "output_type": "display_data",
          "data": {
            "image/png": "[encoded data removed]",
            "text/plain": [
              "<Figure size 432x288 with 1 Axes>"
            ]
          },
          "metadata": {
            "tags": [],
            "needs_background": "light"
          }
        }
      ]
    },
    {
      "cell_type": "markdown",
      "metadata": {
        "id": "w3xsdSyP6zEK"
      },
      "source": [
        "손실 감소 정확도 증가 / validation은 왜 증가가 덜 될까 - (데이터 수가 적어서, 업데이트를 안해서)"
      ]
    }
  ]
}