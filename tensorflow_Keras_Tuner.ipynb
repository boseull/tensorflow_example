{
  "nbformat": 4,
  "nbformat_minor": 0,
  "metadata": {
    "colab": {
      "name": "tensorflow_Keras Tuner.ipynb",
      "provenance": [],
      "authorship_tag": "ABX9TyMhHPCHqJSeQHMc5A0IjoZP",
      "include_colab_link": true
    },
    "kernelspec": {
      "name": "python3",
      "display_name": "Python 3"
    },
    "language_info": {
      "name": "python"
    }
  },
  "cells": [
    {
      "cell_type": "markdown",
      "metadata": {
        "id": "view-in-github",
        "colab_type": "text"
      },
      "source": [
        "<a href=\"https://colab.research.google.com/github/boseull/tensorflow_example/blob/main/tensorflow_Keras_Tuner.ipynb\" target=\"_parent\"><img src=\"https://colab.research.google.com/assets/colab-badge.svg\" alt=\"Open In Colab\"/></a>"
      ]
    },
    {
      "cell_type": "markdown",
      "metadata": {
        "id": "KjuTAYivwGFp"
      },
      "source": [
        "Keras Tuner : TensorFlow 프로그램에 대한 최적의 하이퍼파라미터 세트 선택에 도움을 줌.  \n",
        "토폴로지 : 컴퓨터 네트워크 요소들을 물리적으로 연결  \n",
        "하이퍼파라미터 : 훈련 프로세스 및 ML 모델의 토폴로지 제어\n",
        "\n",
        "*   모델 하이퍼파라미터 : 모델 선택에 영향을 미침\n",
        "*   알고리즘 하이퍼파라미터 : 학습 알고리즘의 속도와 품질에 영향\n",
        "\n"
      ]
    },
    {
      "cell_type": "markdown",
      "metadata": {
        "id": "3CLBONHyw2hy"
      },
      "source": [
        "##import"
      ]
    },
    {
      "cell_type": "code",
      "metadata": {
        "colab": {
          "base_uri": "https://localhost:8080/"
        },
        "id": "yLrCfmi2uYEx",
        "outputId": "4507b79e-f2a8-46d5-cc04-10e6aeec1631"
      },
      "source": [
        "import tensorflow as tf\n",
        "from tensorflow import keras\n",
        "\n",
        "import IPython\n",
        "\n",
        "!pip install -q -U keras-tuner\n",
        "import kerastuner as kt"
      ],
      "execution_count": null,
      "outputs": [
        {
          "output_type": "stream",
          "text": [
            "\u001b[?25l\r\u001b[K     |███▍                            | 10 kB 18.8 MB/s eta 0:00:01\r\u001b[K     |██████▉                         | 20 kB 24.9 MB/s eta 0:00:01\r\u001b[K     |██████████▏                     | 30 kB 19.7 MB/s eta 0:00:01\r\u001b[K     |█████████████▋                  | 40 kB 16.2 MB/s eta 0:00:01\r\u001b[K     |█████████████████               | 51 kB 5.6 MB/s eta 0:00:01\r\u001b[K     |████████████████████▍           | 61 kB 6.0 MB/s eta 0:00:01\r\u001b[K     |███████████████████████▊        | 71 kB 6.1 MB/s eta 0:00:01\r\u001b[K     |███████████████████████████▏    | 81 kB 6.2 MB/s eta 0:00:01\r\u001b[K     |██████████████████████████████▋ | 92 kB 6.4 MB/s eta 0:00:01\r\u001b[K     |████████████████████████████████| 96 kB 2.7 MB/s \n",
            "\u001b[?25h  Building wheel for kt-legacy (setup.py) ... \u001b[?25l\u001b[?25hdone\n"
          ],
          "name": "stdout"
        },
        {
          "output_type": "stream",
          "text": [
            "/usr/local/lib/python3.7/dist-packages/ipykernel_launcher.py:7: DeprecationWarning: `import kerastuner` is deprecated, please use `import keras_tuner`.\n",
            "  import sys\n"
          ],
          "name": "stderr"
        }
      ]
    },
    {
      "cell_type": "markdown",
      "metadata": {
        "id": "oKdoARmXxNgp"
      },
      "source": [
        "##데이터셋 다운로드\n"
      ]
    },
    {
      "cell_type": "code",
      "metadata": {
        "colab": {
          "base_uri": "https://localhost:8080/"
        },
        "id": "GAY0qj08xAPo",
        "outputId": "e617da10-0358-4531-9a10-54fe715833a5"
      },
      "source": [
        "(img_train, label_train), (img_test, label_test) = keras.datasets.fashion_mnist.load_data()\n",
        "\n",
        "img_train = img_train.astype('float32') / 255.0\n",
        "img_test = img_test.astype('float32') / 255.0"
      ],
      "execution_count": null,
      "outputs": [
        {
          "output_type": "stream",
          "text": [
            "Downloading data from https://storage.googleapis.com/tensorflow/tf-keras-datasets/train-labels-idx1-ubyte.gz\n",
            "32768/29515 [=================================] - 0s 0us/step\n",
            "Downloading data from https://storage.googleapis.com/tensorflow/tf-keras-datasets/train-images-idx3-ubyte.gz\n",
            "26427392/26421880 [==============================] - 0s 0us/step\n",
            "Downloading data from https://storage.googleapis.com/tensorflow/tf-keras-datasets/t10k-labels-idx1-ubyte.gz\n",
            "8192/5148 [===============================================] - 0s 0us/step\n",
            "Downloading data from https://storage.googleapis.com/tensorflow/tf-keras-datasets/t10k-images-idx3-ubyte.gz\n",
            "4423680/4422102 [==============================] - 0s 0us/step\n"
          ],
          "name": "stdout"
        }
      ]
    },
    {
      "cell_type": "markdown",
      "metadata": {
        "id": "70tkonkXxjTI"
      },
      "source": [
        "##모델 정의하기"
      ]
    },
    {
      "cell_type": "markdown",
      "metadata": {
        "id": "QAvpgDm6xoHz"
      },
      "source": [
        "모델 아키텍처 + 하이퍼파라미터 검색 공간 정의  \n",
        "하이퍼 모델 : 하이퍼튜닝을 위해 설정하는 모델  \n",
        "[방법]\n",
        "\n",
        "*   모델 빌더 함수 사용\n",
        "*   Keras Tuner API의 HyperModel 클래스를 하위 클래스화\n",
        "\n",
        "+HyperXception, HyperResNet\n",
        "\n"
      ]
    },
    {
      "cell_type": "code",
      "metadata": {
        "id": "mJ0BcYm3xx_5"
      },
      "source": [
        "def model_builder(hp):\n",
        "  model = keras.Sequential()\n",
        "  model.add(keras.layers.Flatten(input_shape=(28, 28)))\n",
        "\n",
        "  #첫번째 층에서 요소 튜닝, 32-512 사이에서 최적의 값 선택\n",
        "  hp_units = hp.Int('units', min_value = 32, max_value = 512, step = 32)\n",
        "  model.add(keras.layers.Dense(units = hp_units, activation = 'relu'))\n",
        "  model.add(keras.layers.Dense(10))\n",
        "\n",
        "  hp_learning_rate = hp.Choice('learning_rate', values = [1e-2, 1e-3, 1e-4])\n",
        "\n",
        "  model.compile(optimizer = keras.optimizers.Adam(learning_rate=hp_learning_rate), loss = keras.losses.SparseCategoricalCrossentropy(from_logits=True), metrics=['accuracy'])\n",
        "\n",
        "  return model"
      ],
      "execution_count": null,
      "outputs": []
    },
    {
      "cell_type": "markdown",
      "metadata": {
        "id": "LQJT1hHkzTIu"
      },
      "source": [
        "##튜너를 인스턴스화하고 하이퍼튜닝 수행하기"
      ]
    },
    {
      "cell_type": "markdown",
      "metadata": {
        "id": "_F-6ZsW100Hr"
      },
      "source": [
        "RandomSearch, Hyperband, BayesianOptimization, Sklearn"
      ]
    },
    {
      "cell_type": "code",
      "metadata": {
        "id": "Ju6neNxJxlOU"
      },
      "source": [
        "tuner = kt.Hyperband(model_builder, objective='val_accuracy', max_epochs=10, factor=3, directory='my_dir', project_name='intro_to_kt')"
      ],
      "execution_count": null,
      "outputs": []
    },
    {
      "cell_type": "markdown",
      "metadata": {
        "id": "hewAbpnx1BkX"
      },
      "source": [
        "Hyperband 튜닝 알고리즘 : 적응형 리소스 할당 및 조기 중단 -> 고성능 모델에서 신속하게 수렴  \n",
        "몇 개의 epoch에 대해 많은 수의 모델 훈련, 최고 성능인 절반만 다음 단계  \n",
        "1+log_factor(max_epochs) 계산 후 한 브래킷에서 훈련할 모델 수 결정  \n",
        "하이퍼파라미터 검색 전 훈련 단계가 끝날 때마다 훈련 결과를 지우도록 콜백 정의  "
      ]
    },
    {
      "cell_type": "code",
      "metadata": {
        "id": "FMooW3eL0w8R"
      },
      "source": [
        "class ClearTrainingOutput(tf.keras.callbacks.Callback):\n",
        "  def on_train_end(*args, **kwargs):\n",
        "    IPython.display.clear_output(wait = True)"
      ],
      "execution_count": null,
      "outputs": []
    },
    {
      "cell_type": "code",
      "metadata": {
        "colab": {
          "base_uri": "https://localhost:8080/"
        },
        "id": "ckahu-_w2Gan",
        "outputId": "ebc9f2b7-0843-44fc-dae9-676e6897eded"
      },
      "source": [
        "tuner.search(img_train, label_train, epochs = 10, validation_data = (img_test, label_test), callbacks = [ClearTrainingOutput()])\n",
        "\n",
        "best_hps = tuner.get_best_hyperparameters(num_trials=1)[0]\n",
        "\n",
        "print(f\"\"\"The hyperparameter search is complete. The optimal number of units in the first densely-connected layer is {best_hps.get('units')} and the optimal leraning rate for the optimizer is {best_hps.get('learning_rate')}.\"\"\")"
      ],
      "execution_count": null,
      "outputs": [
        {
          "output_type": "stream",
          "text": [
            "Trial 30 Complete [00h 01m 22s]\n",
            "val_accuracy: 0.8849999904632568\n",
            "\n",
            "Best val_accuracy So Far: 0.8870000243186951\n",
            "Total elapsed time: 00h 15m 26s\n",
            "INFO:tensorflow:Oracle triggered exit\n",
            "The hyperparameter search is complete. The optimal number of units in the first densely-connected layer is 160 and the optimal leraning rate for the optimizer is 0.001.\n"
          ],
          "name": "stdout"
        }
      ]
    },
    {
      "cell_type": "markdown",
      "metadata": {
        "id": "uqSGor1N7-i6"
      },
      "source": [
        "최적의 하이퍼파라미터로 모델 재훈련"
      ]
    },
    {
      "cell_type": "code",
      "metadata": {
        "colab": {
          "base_uri": "https://localhost:8080/"
        },
        "id": "Zr9s5bGR2_ru",
        "outputId": "244b3c92-5ae7-41ea-8bfb-2e3972b68bca"
      },
      "source": [
        "model = tuner.hypermodel.build(best_hps)\n",
        "model.fit(img_train, label_train, epochs = 10, validation_data = (img_test, label_test))"
      ],
      "execution_count": null,
      "outputs": [
        {
          "output_type": "stream",
          "text": [
            "Epoch 1/10\n",
            "1875/1875 [==============================] - 6s 3ms/step - loss: 0.4915 - accuracy: 0.8245 - val_loss: 0.4229 - val_accuracy: 0.8499\n",
            "Epoch 2/10\n",
            "1875/1875 [==============================] - 5s 3ms/step - loss: 0.3670 - accuracy: 0.8670 - val_loss: 0.3752 - val_accuracy: 0.8629\n",
            "Epoch 3/10\n",
            "1875/1875 [==============================] - 5s 3ms/step - loss: 0.3302 - accuracy: 0.8787 - val_loss: 0.3576 - val_accuracy: 0.8709\n",
            "Epoch 4/10\n",
            "1875/1875 [==============================] - 5s 3ms/step - loss: 0.3075 - accuracy: 0.8875 - val_loss: 0.3480 - val_accuracy: 0.8761\n",
            "Epoch 5/10\n",
            "1875/1875 [==============================] - 5s 3ms/step - loss: 0.2916 - accuracy: 0.8921 - val_loss: 0.3599 - val_accuracy: 0.8670\n",
            "Epoch 6/10\n",
            "1875/1875 [==============================] - 5s 3ms/step - loss: 0.2765 - accuracy: 0.8979 - val_loss: 0.3456 - val_accuracy: 0.8728\n",
            "Epoch 7/10\n",
            "1875/1875 [==============================] - 5s 3ms/step - loss: 0.2658 - accuracy: 0.9001 - val_loss: 0.3397 - val_accuracy: 0.8763\n",
            "Epoch 8/10\n",
            "1875/1875 [==============================] - 5s 3ms/step - loss: 0.2528 - accuracy: 0.9058 - val_loss: 0.3470 - val_accuracy: 0.8773\n",
            "Epoch 9/10\n",
            "1875/1875 [==============================] - 5s 3ms/step - loss: 0.2440 - accuracy: 0.9084 - val_loss: 0.3402 - val_accuracy: 0.8817\n",
            "Epoch 10/10\n",
            "1875/1875 [==============================] - 5s 3ms/step - loss: 0.2353 - accuracy: 0.9123 - val_loss: 0.3571 - val_accuracy: 0.8781\n"
          ],
          "name": "stdout"
        },
        {
          "output_type": "execute_result",
          "data": {
            "text/plain": [
              "<tensorflow.python.keras.callbacks.History at 0x7f1485a4f810>"
            ]
          },
          "metadata": {
            "tags": []
          },
          "execution_count": 11
        }
      ]
    }
  ]
}